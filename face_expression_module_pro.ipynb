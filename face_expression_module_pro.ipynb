{
  "nbformat": 4,
  "nbformat_minor": 0,
  "metadata": {
    "colab": {
      "provenance": [],
      "gpuType": "T4"
    },
    "kernelspec": {
      "name": "python3",
      "display_name": "Python 3"
    },
    "language_info": {
      "name": "python"
    },
    "accelerator": "GPU"
  },
  "cells": [
    {
      "cell_type": "code",
      "execution_count": 1,
      "metadata": {
        "colab": {
          "base_uri": "https://localhost:8080/"
        },
        "id": "UBKTwjbDMus2",
        "outputId": "c35641dc-be41-46fc-a828-df3f475ab20a"
      },
      "outputs": [
        {
          "output_type": "stream",
          "name": "stdout",
          "text": [
            "Mounted at /content/drive\n"
          ]
        }
      ],
      "source": [
        "from google.colab import drive\n",
        "drive.mount('/content/drive')"
      ]
    },
    {
      "cell_type": "code",
      "source": [
        "import zipfile\n",
        "zipfile1='/content/drive/MyDrive/archive.zip'\n",
        "unzipdirectory='/content/'\n",
        "with zipfile.ZipFile(zipfile1,'r') as zip_ref:\n",
        "   zip_ref.extractall(unzipdirectory)"
      ],
      "metadata": {
        "id": "3iC4pKW_NF5Q"
      },
      "execution_count": 2,
      "outputs": []
    },
    {
      "cell_type": "code",
      "source": [
        "from keras.models import Sequential\n",
        "from keras.layers import Convolution2D,MaxPooling2D,Dense,Dropout,Flatten\n",
        "from keras.optimizers import Adam\n",
        "from keras.preprocessing.image import ImageDataGenerator"
      ],
      "metadata": {
        "id": "UYbbcPmqNGjA"
      },
      "execution_count": 3,
      "outputs": []
    },
    {
      "cell_type": "code",
      "source": [
        "# Initialize image data generator with rescaling\n",
        "\n",
        "validation_data_gen = ImageDataGenerator(rescale=1./255)\n"
      ],
      "metadata": {
        "id": "SKHeB1QiNKej"
      },
      "execution_count": 4,
      "outputs": []
    },
    {
      "cell_type": "code",
      "source": [
        "from keras.preprocessing.image import ImageDataGenerator\n",
        "\n",
        "# Define the data augmentation parameters\n",
        "Train_datagen = ImageDataGenerator(\n",
        "    rotation_range=10,      # Degree range for random rotations\n",
        "    width_shift_range=0.1,  # Fraction of total width for random horizontal shift\n",
        "    height_shift_range=0.1, # Fraction of total height for random vertical shift\n",
        "    shear_range=0.1,        # Shear angle in counter-clockwise direction as radians\n",
        "    zoom_range=0.2,         # Range for random zoom (e.g., 0.2 => 0.8 to 1.2)\n",
        "    horizontal_flip=True,   # Randomly flip images horizontally\n",
        "    rescale=1./255          # Rescale pixel values to [0, 1]\n",
        ")"
      ],
      "metadata": {
        "id": "oFX73D-PQSyc"
      },
      "execution_count": 5,
      "outputs": []
    },
    {
      "cell_type": "code",
      "source": [
        "# Preprocess all train images\n",
        "train_generator = Train_datagen.flow_from_directory(\n",
        "        '/content/train',\n",
        "        target_size=(48, 48),\n",
        "        batch_size=32,\n",
        "        color_mode=\"grayscale\",\n",
        "        class_mode='categorical'\n",
        "        )\n",
        "\n",
        "# Preprocess all test images\n",
        "validation_generator = validation_data_gen.flow_from_directory(\n",
        "        '/content/test',\n",
        "        target_size=(48, 48),\n",
        "        batch_size=32,\n",
        "        color_mode=\"grayscale\",\n",
        "        class_mode='categorical')"
      ],
      "metadata": {
        "colab": {
          "base_uri": "https://localhost:8080/"
        },
        "id": "XLS0XswLPT2c",
        "outputId": "6c395dd5-7497-4a36-e700-b4481bb0bf0a"
      },
      "execution_count": 6,
      "outputs": [
        {
          "output_type": "stream",
          "name": "stdout",
          "text": [
            "Found 28709 images belonging to 7 classes.\n",
            "Found 7178 images belonging to 7 classes.\n"
          ]
        }
      ]
    },
    {
      "cell_type": "code",
      "source": [],
      "metadata": {
        "id": "5Q7I4uX0NTWN"
      },
      "execution_count": 6,
      "outputs": []
    },
    {
      "cell_type": "code",
      "source": [
        "import cv2\n",
        "from keras.layers.convolutional.conv2d_transpose import Conv2D\n",
        "#creating model structure\n",
        "\n",
        "\n",
        "EmotionModel = Sequential()\n",
        "\n",
        "EmotionModel.add(Conv2D(32, kernel_size=(3, 3), activation='relu', input_shape=(48, 48, 1)))\n",
        "EmotionModel.add(Conv2D(64, kernel_size=(3, 3), activation='relu'))\n",
        "EmotionModel.add(MaxPooling2D(pool_size=(2, 2)))\n",
        "#EmotionModel.add(Dropout(0.25))\n",
        "\n",
        "EmotionModel.add(Conv2D(128, kernel_size=(3, 3), activation='relu'))\n",
        "EmotionModel.add(MaxPooling2D(pool_size=(2, 2)))\n",
        "EmotionModel.add(Conv2D(128, kernel_size=(3, 3), activation='relu'))\n",
        "EmotionModel.add(MaxPooling2D(pool_size=(2, 2)))\n",
        "#EmotionModel.add(Dropout(0.25))\n",
        "\n",
        "EmotionModel.add(Flatten())\n",
        "\n",
        "\n",
        "EmotionModel.add(Dense(1024, activation='relu'))\n",
        "EmotionModel.add(Dropout(0.5))\n",
        "EmotionModel.add(Dense(7, activation='softmax'))\n",
        "\n",
        "cv2.ocl.setUseOpenCL(False)\n",
        "EmotionModel.compile(loss='categorical_crossentropy', optimizer=Adam(learning_rate=0.0001, decay=1e-6), metrics=['accuracy'])"
      ],
      "metadata": {
        "id": "69VGkZpyN2aK"
      },
      "execution_count": 8,
      "outputs": []
    },
    {
      "cell_type": "code",
      "source": [
        "emotion_model_info = EmotionModel.fit(\n",
        "        train_generator,\n",
        "        steps_per_epoch=28709 // 64,\n",
        "        epochs=30,\n",
        "        validation_data=validation_generator,\n",
        "        validation_steps=7178 // 64)"
      ],
      "metadata": {
        "colab": {
          "base_uri": "https://localhost:8080/"
        },
        "id": "wOqBgXgnOBbC",
        "outputId": "c1229979-aef0-4891-e9a9-68bd02a586a0"
      },
      "execution_count": 11,
      "outputs": [
        {
          "output_type": "stream",
          "name": "stdout",
          "text": [
            "Epoch 1/30\n",
            "448/448 [==============================] - 307s 686ms/step - loss: 1.5162 - accuracy: 0.4155 - val_loss: 1.3929 - val_accuracy: 0.4731\n",
            "Epoch 2/30\n",
            "448/448 [==============================] - 302s 672ms/step - loss: 1.4815 - accuracy: 0.4330 - val_loss: 1.3605 - val_accuracy: 0.4831\n",
            "Epoch 3/30\n",
            "448/448 [==============================] - 291s 650ms/step - loss: 1.4478 - accuracy: 0.4392 - val_loss: 1.3427 - val_accuracy: 0.4873\n",
            "Epoch 4/30\n",
            "448/448 [==============================] - 298s 666ms/step - loss: 1.4290 - accuracy: 0.4577 - val_loss: 1.3119 - val_accuracy: 0.5036\n",
            "Epoch 5/30\n",
            "448/448 [==============================] - 290s 647ms/step - loss: 1.4032 - accuracy: 0.4683 - val_loss: 1.3052 - val_accuracy: 0.5091\n",
            "Epoch 6/30\n",
            "448/448 [==============================] - 296s 660ms/step - loss: 1.3898 - accuracy: 0.4708 - val_loss: 1.2684 - val_accuracy: 0.5123\n",
            "Epoch 7/30\n",
            "448/448 [==============================] - 295s 658ms/step - loss: 1.3564 - accuracy: 0.4869 - val_loss: 1.2525 - val_accuracy: 0.5226\n",
            "Epoch 8/30\n",
            "448/448 [==============================] - 298s 664ms/step - loss: 1.3451 - accuracy: 0.4868 - val_loss: 1.2298 - val_accuracy: 0.5351\n",
            "Epoch 9/30\n",
            "448/448 [==============================] - 293s 654ms/step - loss: 1.3250 - accuracy: 0.4959 - val_loss: 1.2345 - val_accuracy: 0.5290\n",
            "Epoch 10/30\n",
            "448/448 [==============================] - 305s 681ms/step - loss: 1.3151 - accuracy: 0.5026 - val_loss: 1.2301 - val_accuracy: 0.5348\n",
            "Epoch 11/30\n",
            "448/448 [==============================] - 303s 677ms/step - loss: 1.3016 - accuracy: 0.5098 - val_loss: 1.2304 - val_accuracy: 0.5309\n",
            "Epoch 12/30\n",
            "448/448 [==============================] - 293s 654ms/step - loss: 1.2954 - accuracy: 0.5082 - val_loss: 1.1871 - val_accuracy: 0.5443\n",
            "Epoch 13/30\n",
            "448/448 [==============================] - 300s 670ms/step - loss: 1.2820 - accuracy: 0.5156 - val_loss: 1.2006 - val_accuracy: 0.5468\n",
            "Epoch 14/30\n",
            "448/448 [==============================] - 292s 651ms/step - loss: 1.2575 - accuracy: 0.5262 - val_loss: 1.1706 - val_accuracy: 0.5564\n",
            "Epoch 15/30\n",
            "448/448 [==============================] - 301s 671ms/step - loss: 1.2516 - accuracy: 0.5215 - val_loss: 1.1678 - val_accuracy: 0.5545\n",
            "Epoch 16/30\n",
            "448/448 [==============================] - 301s 671ms/step - loss: 1.2435 - accuracy: 0.5248 - val_loss: 1.1587 - val_accuracy: 0.5649\n",
            "Epoch 17/30\n",
            "448/448 [==============================] - 300s 670ms/step - loss: 1.2322 - accuracy: 0.5329 - val_loss: 1.1453 - val_accuracy: 0.5666\n",
            "Epoch 18/30\n",
            "448/448 [==============================] - 302s 674ms/step - loss: 1.2295 - accuracy: 0.5354 - val_loss: 1.1522 - val_accuracy: 0.5621\n",
            "Epoch 19/30\n",
            "448/448 [==============================] - 291s 648ms/step - loss: 1.2300 - accuracy: 0.5374 - val_loss: 1.1428 - val_accuracy: 0.5677\n",
            "Epoch 20/30\n",
            "448/448 [==============================] - 298s 666ms/step - loss: 1.2175 - accuracy: 0.5354 - val_loss: 1.1461 - val_accuracy: 0.5635\n",
            "Epoch 21/30\n",
            "448/448 [==============================] - 300s 670ms/step - loss: 1.2117 - accuracy: 0.5414 - val_loss: 1.1370 - val_accuracy: 0.5635\n",
            "Epoch 22/30\n",
            "448/448 [==============================] - 300s 670ms/step - loss: 1.2032 - accuracy: 0.5437 - val_loss: 1.1192 - val_accuracy: 0.5761\n",
            "Epoch 23/30\n",
            "448/448 [==============================] - 304s 680ms/step - loss: 1.1892 - accuracy: 0.5499 - val_loss: 1.1406 - val_accuracy: 0.5708\n",
            "Epoch 24/30\n",
            "448/448 [==============================] - 304s 679ms/step - loss: 1.1816 - accuracy: 0.5523 - val_loss: 1.1183 - val_accuracy: 0.5819\n",
            "Epoch 25/30\n",
            "448/448 [==============================] - 302s 675ms/step - loss: 1.1742 - accuracy: 0.5578 - val_loss: 1.1108 - val_accuracy: 0.5822\n",
            "Epoch 26/30\n",
            "448/448 [==============================] - 294s 655ms/step - loss: 1.1812 - accuracy: 0.5509 - val_loss: 1.1093 - val_accuracy: 0.5804\n",
            "Epoch 27/30\n",
            "448/448 [==============================] - 308s 688ms/step - loss: 1.1698 - accuracy: 0.5630 - val_loss: 1.1118 - val_accuracy: 0.5812\n",
            "Epoch 28/30\n",
            "448/448 [==============================] - 291s 650ms/step - loss: 1.1585 - accuracy: 0.5639 - val_loss: 1.0893 - val_accuracy: 0.5896\n",
            "Epoch 29/30\n",
            "448/448 [==============================] - 297s 663ms/step - loss: 1.1647 - accuracy: 0.5666 - val_loss: 1.0984 - val_accuracy: 0.5832\n",
            "Epoch 30/30\n",
            "448/448 [==============================] - 293s 655ms/step - loss: 1.1577 - accuracy: 0.5624 - val_loss: 1.0908 - val_accuracy: 0.5910\n"
          ]
        }
      ]
    },
    {
      "cell_type": "code",
      "source": [
        "test_loss, test_acc =EmotionModel.evaluate(validation_generator, verbose=2)\n",
        "\n",
        "print('\\nTest accuracy:', test_acc)"
      ],
      "metadata": {
        "colab": {
          "base_uri": "https://localhost:8080/"
        },
        "id": "RUxEBcgGhGVf",
        "outputId": "d5166c98-594c-4290-c25a-e20fb343433c"
      },
      "execution_count": 11,
      "outputs": [
        {
          "output_type": "stream",
          "name": "stdout",
          "text": [
            "113/113 - 3s - loss: 1.0709 - accuracy: 0.5975 - 3s/epoch - 25ms/step\n",
            "\n",
            "Test accuracy: 0.5975201725959778\n"
          ]
        }
      ]
    },
    {
      "cell_type": "code",
      "source": [],
      "metadata": {
        "colab": {
          "base_uri": "https://localhost:8080/"
        },
        "id": "k_2Y4PkXU9WB",
        "outputId": "59871511-3d8b-4f15-89a7-bcdf89f2af53"
      },
      "execution_count": 12,
      "outputs": [
        {
          "output_type": "stream",
          "name": "stdout",
          "text": [
            "113/113 [==============================] - 3s 29ms/step\n"
          ]
        }
      ]
    },
    {
      "cell_type": "code",
      "source": [],
      "metadata": {
        "id": "vhNqnK7ehasW"
      },
      "execution_count": 17,
      "outputs": []
    }
  ]
}